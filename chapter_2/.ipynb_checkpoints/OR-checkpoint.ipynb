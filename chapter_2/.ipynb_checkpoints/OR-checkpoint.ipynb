{
 "cells": [
  {
   "cell_type": "code",
   "execution_count": 3,
   "metadata": {},
   "outputs": [
    {
     "ename": "SyntaxError",
     "evalue": "invalid syntax (<ipython-input-3-0e514f02a2e1>, line 2)",
     "output_type": "error",
     "traceback": [
      "\u001b[0;36m  File \u001b[0;32m\"<ipython-input-3-0e514f02a2e1>\"\u001b[0;36m, line \u001b[0;32m2\u001b[0m\n\u001b[0;31m    if __name__ == \"__main__\"\u001b[0m\n\u001b[0m                             ^\u001b[0m\n\u001b[0;31mSyntaxError\u001b[0m\u001b[0;31m:\u001b[0m invalid syntax\n"
     ]
    }
   ],
   "source": [
    "import numpy as np\n",
    "if __name__ == \"__main__\":\n",
    "    def OR(x1,x2):\n",
    "        x = np.array([x1,x2])\n",
    "        w = np.array([0.5,0.5])\n",
    "        b = -0.2\n",
    "\n",
    "        tmp = np.sum(x*w) + b\n",
    "\n",
    "        if tmp <= 0:\n",
    "            return 0\n",
    "        else: return 1"
   ]
  },
  {
   "cell_type": "code",
   "execution_count": 2,
   "metadata": {},
   "outputs": [
    {
     "name": "stdout",
     "output_type": "stream",
     "text": [
      "0 1 1 1\n"
     ]
    }
   ],
   "source": [
    "print(OR(0,0),OR(1,0),OR(0,1),OR(1,1))"
   ]
  },
  {
   "cell_type": "code",
   "execution_count": null,
   "metadata": {},
   "outputs": [],
   "source": []
  }
 ],
 "metadata": {
  "kernelspec": {
   "display_name": "Python 3",
   "language": "python",
   "name": "python3"
  },
  "language_info": {
   "codemirror_mode": {
    "name": "ipython",
    "version": 3
   },
   "file_extension": ".py",
   "mimetype": "text/x-python",
   "name": "python",
   "nbconvert_exporter": "python",
   "pygments_lexer": "ipython3",
   "version": "3.8.5"
  }
 },
 "nbformat": 4,
 "nbformat_minor": 4
}
